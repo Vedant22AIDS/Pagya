{
 "cells": [
  {
   "cell_type": "code",
   "execution_count": 1,
   "metadata": {
    "colab": {
     "base_uri": "https://localhost:8080/"
    },
    "id": "t4jfZC-iHzFi",
    "outputId": "e9bf2944-ab9c-442b-8c44-7f15b32dbf8b"
   },
   "outputs": [
    {
     "name": "stdout",
     "output_type": "stream",
     "text": [
      "\n",
      "Menu:\n",
      "1. Train Logistic Regression Model\n",
      "2. Train Neural Network Model\n",
      "3. Exit\n",
      "Enter your choice: 1\n"
     ]
    },
    {
     "name": "stderr",
     "output_type": "stream",
     "text": [
      "/usr/local/lib/python3.11/dist-packages/keras/src/layers/core/dense.py:87: UserWarning: Do not pass an `input_shape`/`input_dim` argument to a layer. When using Sequential models, prefer using an `Input(shape)` object as the first layer in the model instead.\n",
      "  super().__init__(activity_regularizer=activity_regularizer, **kwargs)\n"
     ]
    },
    {
     "name": "stdout",
     "output_type": "stream",
     "text": [
      "\u001b[1m4/4\u001b[0m \u001b[32m━━━━━━━━━━━━━━━━━━━━\u001b[0m\u001b[37m\u001b[0m \u001b[1m0s\u001b[0m 13ms/step\n",
      "\n",
      "Logistic Regression Model:\n",
      "Accuracy: 0.9736842105263158\n",
      "Classification Report:\n",
      "               precision    recall  f1-score   support\n",
      "\n",
      "           0       0.95      0.98      0.97        43\n",
      "           1       0.99      0.97      0.98        71\n",
      "\n",
      "    accuracy                           0.97       114\n",
      "   macro avg       0.97      0.97      0.97       114\n",
      "weighted avg       0.97      0.97      0.97       114\n",
      "\n",
      "ROC AUC Score: 0.9742875859810023\n",
      "\n",
      "Menu:\n",
      "1. Train Logistic Regression Model\n",
      "2. Train Neural Network Model\n",
      "3. Exit\n",
      "Enter your choice: 2\n"
     ]
    },
    {
     "name": "stderr",
     "output_type": "stream",
     "text": [
      "/usr/local/lib/python3.11/dist-packages/keras/src/layers/core/dense.py:87: UserWarning: Do not pass an `input_shape`/`input_dim` argument to a layer. When using Sequential models, prefer using an `Input(shape)` object as the first layer in the model instead.\n",
      "  super().__init__(activity_regularizer=activity_regularizer, **kwargs)\n"
     ]
    },
    {
     "name": "stdout",
     "output_type": "stream",
     "text": [
      "\u001b[1m4/4\u001b[0m \u001b[32m━━━━━━━━━━━━━━━━━━━━\u001b[0m\u001b[37m\u001b[0m \u001b[1m0s\u001b[0m 18ms/step\n",
      "\n",
      "Neural Network Model:\n",
      "Accuracy: 0.9736842105263158\n",
      "Classification Report:\n",
      "               precision    recall  f1-score   support\n",
      "\n",
      "           0       0.95      0.98      0.97        43\n",
      "           1       0.99      0.97      0.98        71\n",
      "\n",
      "    accuracy                           0.97       114\n",
      "   macro avg       0.97      0.97      0.97       114\n",
      "weighted avg       0.97      0.97      0.97       114\n",
      "\n",
      "ROC AUC Score: 0.9742875859810023\n",
      "\n",
      "Menu:\n",
      "1. Train Logistic Regression Model\n",
      "2. Train Neural Network Model\n",
      "3. Exit\n",
      "Enter your choice: 3\n",
      "Exiting...\n"
     ]
    }
   ],
   "source": [
    "\"\"\"\n",
    "Group C: Assignment No. 11\n",
    "Assignment Title: How to Train a Neural Network with\n",
    "TensorFlow/Pytorch and evaluation of logistic regression using\n",
    "tensorflow\n",
    "\"\"\"\n",
    "import numpy as np\n",
    "import tensorflow as tf\n",
    "from sklearn.datasets import load_breast_cancer\n",
    "from sklearn.model_selection import train_test_split\n",
    "from sklearn.preprocessing import StandardScaler\n",
    "from sklearn.metrics import accuracy_score, classification_report, roc_auc_score\n",
    "from tensorflow.keras.models import Sequential\n",
    "from tensorflow.keras.layers import Dense\n",
    "import torch\n",
    "import torch.nn as nn\n",
    "import torch.optim as optim\n",
    "\n",
    "def load_data():\n",
    "    # Load the breast cancer dataset\n",
    "    data = load_breast_cancer()\n",
    "    X = data.data\n",
    "    y = data.target\n",
    "    return X, y\n",
    "\n",
    "def preprocess_data(X, y):\n",
    "    # Preprocess the data\n",
    "    scaler = StandardScaler()\n",
    "    X_scaled = scaler.fit_transform(X)\n",
    "    X_train, X_test, y_train, y_test = train_test_split(X_scaled, y, test_size=0.2, random_state=42)\n",
    "    return X_train, X_test, y_train, y_test\n",
    "\n",
    "def train_logistic_regression(X_train, y_train):\n",
    "    # Train a Logistic Regression Model using TensorFlow\n",
    "    logistic_model = Sequential([\n",
    "        Dense(1, input_dim=X_train.shape[1], activation='sigmoid')\n",
    "    ])\n",
    "    logistic_model.compile(optimizer='adam', loss='binary_crossentropy', metrics=['accuracy'])\n",
    "    logistic_model.fit(X_train, y_train, epochs=50, batch_size=32, verbose=0)\n",
    "    return logistic_model\n",
    "\n",
    "def train_neural_network(X_train, y_train):\n",
    "    # Train a Neural Network Model using TensorFlow\n",
    "    nn_model = Sequential([\n",
    "        Dense(64, input_dim=X_train.shape[1], activation='relu'),\n",
    "        Dense(1, activation='sigmoid')\n",
    "    ])\n",
    "    nn_model.compile(optimizer='adam', loss='binary_crossentropy', metrics=['accuracy'])\n",
    "    nn_model.fit(X_train, y_train, epochs=50, batch_size=32, verbose=0)\n",
    "    return nn_model\n",
    "\n",
    "def evaluate_model(model, X_test, y_test):\n",
    "    # Model Evaluation\n",
    "    y_pred = (model.predict(X_test) > 0.5).astype(\"int32\").flatten()\n",
    "    acc = accuracy_score(y_test, y_pred)\n",
    "    report = classification_report(y_test, y_pred)\n",
    "    auc = roc_auc_score(y_test, y_pred)\n",
    "    return acc, report, auc\n",
    "\n",
    "def display_results(acc, report, auc):\n",
    "    print(\"Accuracy:\", acc)\n",
    "    print(\"Classification Report:\\n\", report)\n",
    "    print(\"ROC AUC Score:\", auc)\n",
    "\n",
    "# Main menu\n",
    "def main():\n",
    "    X, y = load_data()\n",
    "    X_train, X_test, y_train, y_test = preprocess_data(X, y)\n",
    "\n",
    "    while True:\n",
    "        print(\"\\nMenu:\")\n",
    "        print(\"1. Train Logistic Regression Model\")\n",
    "        print(\"2. Train Neural Network Model\")\n",
    "        print(\"3. Exit\")\n",
    "\n",
    "        choice = input(\"Enter your choice: \")\n",
    "\n",
    "        if choice == '1':\n",
    "            logistic_model = train_logistic_regression(X_train, y_train)\n",
    "            acc, report, auc = evaluate_model(logistic_model, X_test, y_test)\n",
    "            print(\"\\nLogistic Regression Model:\")\n",
    "            display_results(acc, report, auc)\n",
    "        elif choice == '2':\n",
    "            nn_model = train_neural_network(X_train, y_train)\n",
    "            acc, report, auc = evaluate_model(nn_model, X_test, y_test)\n",
    "            print(\"\\nNeural Network Model:\")\n",
    "            display_results(acc, report, auc)\n",
    "        elif choice == '3':\n",
    "            print(\"Exiting...\")\n",
    "            break\n",
    "        else:\n",
    "            print(\"Invalid choice. Please enter a valid option.\")\n",
    "\n",
    "if __name__ == \"__main__\":\n",
    "    main()"
   ]
  },
  {
   "cell_type": "code",
   "execution_count": null,
   "metadata": {
    "id": "VL1FqVmiH1Vb"
   },
   "outputs": [],
   "source": []
  }
 ],
 "metadata": {
  "colab": {
   "provenance": []
  },
  "kernelspec": {
   "display_name": "Python 3 (ipykernel)",
   "language": "python",
   "name": "python3"
  },
  "language_info": {
   "codemirror_mode": {
    "name": "ipython",
    "version": 3
   },
   "file_extension": ".py",
   "mimetype": "text/x-python",
   "name": "python",
   "nbconvert_exporter": "python",
   "pygments_lexer": "ipython3",
   "version": "3.12.7"
  }
 },
 "nbformat": 4,
 "nbformat_minor": 4
}
