{
 "cells": [
  {
   "cell_type": "code",
   "execution_count": 1,
   "id": "d75bb477-4fca-4c98-b97c-004e21e6c88a",
   "metadata": {},
   "outputs": [
    {
     "name": "stdout",
     "output_type": "stream",
     "text": [
      "ANDNOT Truth Table:\n",
      "X1\tX2\tOutput\n",
      "0\t0\t0\n",
      "0\t1\t1\n",
      "1\t0\t0\n",
      "1\t1\t0\n"
     ]
    }
   ],
   "source": [
    "\"\"\" \n",
    "Group A: Assignment No. 2\n",
    "Assignment Title: Generate ANDNOT function using McCulloch-Pitts\n",
    "neural net by a python program.\n",
    "\n",
    "Sample input:\n",
    "1\n",
    "2\n",
    "\"\"\"\n",
    "\n",
    "\n",
    "    nn = MP_ANDNOT()\n",
    "    \n",
    "    for x1, x2 in [(0,0), (0,1), (1,0), (1,1)]:\n",
    "        print(f\"{x1}\\t{x2}\\t{nn.activate(x1, x2)}\")\n",
    "\n",
    "if __name__ == \"__main__\":\n",
    "    main()\n",
    "\n"
   ]
  },
  {
   "cell_type": "code",
   "execution_count": 1,
   "id": "0cb80380-e0ce-4bb5-a7b4-f0812fa35ba4",
   "metadata": {},
   "outputs": [
    {
     "name": "stdout",
     "output_type": "stream",
     "text": [
      "ANDNOT Truth Table:\n",
      "X1\tX2\tOutput\n",
      "0\t0\t0\n",
      "0\t1\t1\n",
      "1\t0\t0\n",
      "1\t1\t0\n"
     ]
    }
   ],
   "source": [
    "# Import the numpy library for using arrays and mathematical operations\n",
    "import numpy as np\n",
    "\n",
    "# Define a class for McCulloch-Pitts Neural Network to perform ANDNOT logic\n",
    "class MP_ANDNOT:\n",
    "    def __init__(self):\n",
    "        # Initialize the weights: -1 for X1 and +1 for X2\n",
    "        # These weights are chosen to perform the ANDNOT (X2 AND NOT X1) operation\n",
    "        self.weights = np.array([-1, 1])\n",
    "        # Define the threshold value for activation function\n",
    "        self.threshold = 0\n",
    "\n",
    "    # Define the activation function that simulates the neuron\n",
    "    def activate(self, x1, x2):\n",
    "        # Calculate the net input: (weight1 * x1) + (weight2 * x2)\n",
    "        net = x1 * self.weights[0] + x2 * self.weights[1]\n",
    "        # Apply the step function: output is 1 if net > threshold, else 0\n",
    "        return 1 if net > self.threshold else 0\n",
    "\n",
    "# Define the main function where the truth table will be generated\n",
    "def main():\n",
    "    # Print the heading for the ANDNOT truth table\n",
    "    print(\"ANDNOT Truth Table:\")\n",
    "    print(\"X1\\tX2\\tOutput\")\n",
    "    \n",
    "    # Create an object of the MP_ANDNOT class\n",
    "    nn = MP_ANDNOT()\n",
    "    \n",
    "    # Loop through all possible combinations of binary inputs (0 and 1)\n",
    "    for x1, x2 in [(0,0), (0,1), (1,0), (1,1)]:\n",
    "        # Call the activate function and print the result\n",
    "        print(f\"{x1}\\t{x2}\\t{nn.activate(x1, x2)}\")\n",
    "\n",
    "# This ensures that the main function runs only when this file is executed directly\n",
    "if __name__ == \"__main__\":\n",
    "    main()\n"
   ]
  },
  {
   "cell_type": "code",
   "execution_count": null,
   "id": "0148a70d-3403-495e-9c51-e1709a372195",
   "metadata": {},
   "outputs": [],
   "source": []
  }
 ],
 "metadata": {
  "kernelspec": {
   "display_name": "Python 3 (ipykernel)",
   "language": "python",
   "name": "python3"
  },
  "language_info": {
   "codemirror_mode": {
    "name": "ipython",
    "version": 3
   },
   "file_extension": ".py",
   "mimetype": "text/x-python",
   "name": "python",
   "nbconvert_exporter": "python",
   "pygments_lexer": "ipython3",
   "version": "3.12.7"
  }
 },
 "nbformat": 4,
 "nbformat_minor": 5
}
