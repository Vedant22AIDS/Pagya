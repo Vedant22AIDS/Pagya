{
 "cells": [
  {
   "cell_type": "code",
   "execution_count": 1,
   "id": "73f877a2-a0cc-41c7-8df8-d42e6d58ed78",
   "metadata": {},
   "outputs": [
    {
     "name": "stdout",
     "output_type": "stream",
     "text": [
      "Hopfield Network Predictions:\n",
      "Input:      [ 1  1 -1 -1]\n",
      "Recalled:   [ 1.  1. -1. -1.]\n",
      "\n",
      "Input:      [-1 -1  1  1]\n",
      "Recalled:   [-1. -1.  1.  1.]\n",
      "\n",
      "Input:      [ 1 -1  1 -1]\n",
      "Recalled:   [ 1. -1.  1. -1.]\n",
      "\n",
      "Input:      [-1  1 -1  1]\n",
      "Recalled:   [-1.  1. -1.  1.]\n",
      "\n"
     ]
    }
   ],
   "source": [
    "\"\"\"\n",
    "Assignment No. 9: Design a Hopfield Network to store 4 patterns.\n",
    "\"\"\"\n",
    "\n",
    "import numpy as np\n",
    "\n",
    "class HopfieldNetwork:\n",
    "    def __init__(self, size):\n",
    "        self.size = size\n",
    "        self.weights = np.zeros((size, size))\n",
    "\n",
    "    def train(self, patterns):\n",
    "        for p in patterns:\n",
    "            self.weights += np.outer(p, p)\n",
    "        np.fill_diagonal(self.weights, 0)  # No self-connections\n",
    "        self.weights /= self.size\n",
    "\n",
    "    def predict(self, input_pattern, steps=10):\n",
    "        x = input_pattern.copy()\n",
    "        for _ in range(steps):  # Run for a few iterations until stable\n",
    "            x = np.sign(self.weights @ x)\n",
    "        return x\n",
    "\n",
    "# Define bipolar patterns (-1, 1)\n",
    "patterns = np.array([\n",
    "    [ 1,  1, -1, -1],\n",
    "    [-1, -1,  1,  1],\n",
    "    [ 1, -1,  1, -1],\n",
    "    [-1,  1, -1,  1]\n",
    "])\n",
    "\n",
    "net = HopfieldNetwork(size=4)\n",
    "net.train(patterns)\n",
    "\n",
    "print(\"Hopfield Network Predictions:\")\n",
    "for p in patterns:\n",
    "    recalled = net.predict(p)\n",
    "    print(\"Input:     \", p)\n",
    "    print(\"Recalled:  \", recalled)\n",
    "    print()\n"
   ]
  },
  {
   "cell_type": "code",
   "execution_count": 1,
   "id": "df3d2480-2570-4606-bfc8-aa0169c07a3a",
   "metadata": {},
   "outputs": [
    {
     "name": "stdout",
     "output_type": "stream",
     "text": [
      "Hopfield Network Predictions:\n",
      "Input:      [ 1  1 -1 -1]\n",
      "Recalled:   [ 1.  1. -1. -1.]\n",
      "\n",
      "Input:      [-1 -1  1  1]\n",
      "Recalled:   [-1. -1.  1.  1.]\n",
      "\n",
      "Input:      [ 1 -1  1 -1]\n",
      "Recalled:   [ 1. -1.  1. -1.]\n",
      "\n",
      "Input:      [-1  1 -1  1]\n",
      "Recalled:   [-1.  1. -1.  1.]\n",
      "\n"
     ]
    }
   ],
   "source": [
    "\"\"\"\n",
    "Assignment No. 9: Design a Hopfield Network to store 4 patterns.\n",
    "\"\"\"\n",
    "\n",
    "import numpy as np  # Importing NumPy for matrix operations and mathematical functions\n",
    "\n",
    "class HopfieldNetwork:\n",
    "    def __init__(self, size):\n",
    "        self.size = size  # Set the size of the network (number of neurons)\n",
    "        self.weights = np.zeros((size, size))  # Initialize the weight matrix to zeros\n",
    "\n",
    "    def train(self, patterns):\n",
    "        # Train the Hopfield Network using the given patterns\n",
    "        for p in patterns:\n",
    "            self.weights += np.outer(p, p)  # Update weight matrix using outer product of pattern with itself\n",
    "        np.fill_diagonal(self.weights, 0)  # Ensure there are no self-connections (diagonal elements should be 0)\n",
    "        self.weights /= self.size  # Normalize the weights by dividing by the number of neurons\n",
    "\n",
    "    def predict(self, input_pattern, steps=10):\n",
    "        # Predict the stored pattern based on the given input\n",
    "        x = input_pattern.copy()  # Copy the input pattern to avoid modifying the original\n",
    "        for _ in range(steps):  # Repeat for a few iterations until the pattern stabilizes\n",
    "            x = np.sign(self.weights @ x)  # Multiply the weight matrix by the current pattern and apply sign function\n",
    "        return x  # Return the final output (recalled pattern)\n",
    "\n",
    "# Define bipolar patterns (-1, 1)\n",
    "patterns = np.array([\n",
    "    [ 1,  1, -1, -1],  # Pattern 1\n",
    "    [-1, -1,  1,  1],  # Pattern 2\n",
    "    [ 1, -1,  1, -1],  # Pattern 3\n",
    "    [-1,  1, -1,  1]   # Pattern 4\n",
    "])\n",
    "\n",
    "# Initialize the Hopfield network with 4 neurons\n",
    "net = HopfieldNetwork(size=4)\n",
    "\n",
    "# Train the network with the defined patterns\n",
    "net.train(patterns)\n",
    "\n",
    "# Display the predictions for each input pattern\n",
    "print(\"Hopfield Network Predictions:\")\n",
    "for p in patterns:\n",
    "    recalled = net.predict(p)  # Predict the recalled pattern for each input pattern\n",
    "    print(\"Input:     \", p)  # Display the input pattern\n",
    "    print(\"Recalled:  \", recalled)  # Display the recalled (predicted) pattern\n",
    "    print()  # Add a blank line for readability\n"
   ]
  },
  {
   "cell_type": "code",
   "execution_count": null,
   "id": "af9a521f-f66f-44fa-b8e4-8a15d212a20b",
   "metadata": {},
   "outputs": [],
   "source": []
  }
 ],
 "metadata": {
  "kernelspec": {
   "display_name": "Python 3 (ipykernel)",
   "language": "python",
   "name": "python3"
  },
  "language_info": {
   "codemirror_mode": {
    "name": "ipython",
    "version": 3
   },
   "file_extension": ".py",
   "mimetype": "text/x-python",
   "name": "python",
   "nbconvert_exporter": "python",
   "pygments_lexer": "ipython3",
   "version": "3.12.7"
  }
 },
 "nbformat": 4,
 "nbformat_minor": 5
}
